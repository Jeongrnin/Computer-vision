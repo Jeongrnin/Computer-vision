{
  "nbformat": 4,
  "nbformat_minor": 0,
  "metadata": {
    "colab": {
      "provenance": [],
      "authorship_tag": "ABX9TyO+S2YsmdiLtyr83H87H7H1",
      "include_colab_link": true
    },
    "kernelspec": {
      "name": "python3",
      "display_name": "Python 3"
    },
    "language_info": {
      "name": "python"
    }
  },
  "cells": [
    {
      "cell_type": "markdown",
      "metadata": {
        "id": "view-in-github",
        "colab_type": "text"
      },
      "source": [
        "<a href=\"https://colab.research.google.com/github/Jeongrnin/Computer-vision/blob/main/exZero.ipynb\" target=\"_parent\"><img src=\"https://colab.research.google.com/assets/colab-badge.svg\" alt=\"Open In Colab\"/></a>"
      ]
    },
    {
      "cell_type": "markdown",
      "source": [
        "# **2. 벡터, 행렬 연산, 그래프 그리기**"
      ],
      "metadata": {
        "id": "J_nlpbRbyviJ"
      }
    },
    {
      "cell_type": "markdown",
      "source": [
        "## 라이브러리(패키지) 로드"
      ],
      "metadata": {
        "id": "wyK6L1gmr_w0"
      }
    },
    {
      "cell_type": "code",
      "source": [
        "import numpy as np"
      ],
      "metadata": {
        "id": "rMsw1RUvrC8j"
      },
      "execution_count": 1,
      "outputs": []
    },
    {
      "cell_type": "markdown",
      "source": [
        "프린트"
      ],
      "metadata": {
        "id": "2kFO52kkezk7"
      }
    },
    {
      "cell_type": "code",
      "source": [
        "def print_val(x):\n",
        "  print (\"Type\", type(x))\n",
        "  print (\"Shape\", x.shape)\n",
        "  print (\"값:\\n\", x)\n",
        "  print (\" \")"
      ],
      "metadata": {
        "id": "H7FaMf8reyGK"
      },
      "execution_count": null,
      "outputs": []
    },
    {
      "cell_type": "markdown",
      "source": [
        "rank 1 np array"
      ],
      "metadata": {
        "id": "V3xjkVf-e4jd"
      }
    },
    {
      "cell_type": "code",
      "source": [
        "x = np.array([1, 2, 3])\n",
        "print_val(x)\n",
        "\n",
        "x[0] = 5\n",
        "print_val(x)"
      ],
      "metadata": {
        "id": "vACWxx0Ub1uh"
      },
      "execution_count": null,
      "outputs": []
    },
    {
      "cell_type": "markdown",
      "source": [
        "rank 2 np array"
      ],
      "metadata": {
        "id": "KVVQkvbue9AG"
      }
    },
    {
      "cell_type": "code",
      "source": [
        "y = np.array([[1,2,3], [4,5,6]])\n",
        "print_val(y)"
      ],
      "metadata": {
        "id": "oXlI8LR5e_wn"
      },
      "execution_count": null,
      "outputs": []
    },
    {
      "cell_type": "markdown",
      "source": [
        "rank 2 zeros"
      ],
      "metadata": {
        "id": "u7Q8p3KJfGy8"
      }
    },
    {
      "cell_type": "code",
      "source": [
        "a = np.zeros((2,2))\n",
        "print_val(a)"
      ],
      "metadata": {
        "id": "WHf1wElOfI1v"
      },
      "execution_count": null,
      "outputs": []
    },
    {
      "cell_type": "markdown",
      "source": [
        "rank 2 ones"
      ],
      "metadata": {
        "id": "udTYHMI1fPyA"
      }
    },
    {
      "cell_type": "code",
      "source": [
        "a = np.ones((3,2))\n",
        "print_val(a)"
      ],
      "metadata": {
        "id": "80wPseywfRE1"
      },
      "execution_count": null,
      "outputs": []
    },
    {
      "cell_type": "markdown",
      "source": [
        "rank 2 단위 행렬(identity matrix)"
      ],
      "metadata": {
        "id": "WiWqoqC4fUlk"
      }
    },
    {
      "cell_type": "code",
      "source": [
        "a = np.eye(3,3)\n",
        "print_val(a)"
      ],
      "metadata": {
        "id": "q9M3JT_6fXrD"
      },
      "execution_count": null,
      "outputs": []
    },
    {
      "cell_type": "markdown",
      "source": [
        "랜덤 행렬(uniform: 0~1 사이 모든 값들이 나올 확률이 같음)"
      ],
      "metadata": {
        "id": "N6nt8doKfoup"
      }
    },
    {
      "cell_type": "code",
      "source": [
        "a = np.random.random((4,4))\n",
        "print_val(a)"
      ],
      "metadata": {
        "id": "Jp-1koiMft-4"
      },
      "execution_count": null,
      "outputs": []
    },
    {
      "cell_type": "markdown",
      "source": [
        "랜덤 행렬(Gaussian: 0을 평균으로 하는 가우시안 분포를 따르는 랜덤값)"
      ],
      "metadata": {
        "id": "RxU_Kbehf1mR"
      }
    },
    {
      "cell_type": "code",
      "source": [
        "a = np.random.randn(4,4)\n",
        "print_val(a)"
      ],
      "metadata": {
        "id": "f5oXbh9-f5kU"
      },
      "execution_count": null,
      "outputs": []
    },
    {
      "cell_type": "markdown",
      "source": [
        "np array indexing"
      ],
      "metadata": {
        "id": "e3c5NL0amLR4"
      }
    },
    {
      "cell_type": "code",
      "source": [
        "a = np.array([[1,2,3,4],[5,6,7,8],[9,10,11,12]])\n",
        "print_val(a)"
      ],
      "metadata": {
        "id": "2d9-tngqmPev"
      },
      "execution_count": null,
      "outputs": []
    },
    {
      "cell_type": "code",
      "source": [
        "b = a[:2, 1:3]\n",
        "print_val(b)"
      ],
      "metadata": {
        "id": "i9TQhtykmdpL"
      },
      "execution_count": null,
      "outputs": []
    },
    {
      "cell_type": "markdown",
      "source": [
        "행렬의 n번째 행 얻기"
      ],
      "metadata": {
        "id": "dGdWFaX7mfNg"
      }
    },
    {
      "cell_type": "code",
      "source": [
        "row1 = a[1, :]\n",
        "print_val(row1)"
      ],
      "metadata": {
        "id": "VFtwZSe0mith"
      },
      "execution_count": null,
      "outputs": []
    },
    {
      "cell_type": "markdown",
      "source": [
        "행렬의 원소별 연산"
      ],
      "metadata": {
        "id": "XvMpSb4FnByR"
      }
    },
    {
      "cell_type": "code",
      "source": [
        "m1 = np.array([[1,2],[3,4]], dtype=np.float64)\n",
        "m2 = np.array([[5,6],[7,8]], dtype=np.float64)"
      ],
      "metadata": {
        "id": "RwQbhq70nEWf"
      },
      "execution_count": 14,
      "outputs": []
    },
    {
      "cell_type": "code",
      "source": [
        "# elementwise sum\n",
        "print_val(m1 + m2)\n",
        "print_val(np.add(m1, m2))"
      ],
      "metadata": {
        "id": "mCovN2-onPKX"
      },
      "execution_count": null,
      "outputs": []
    },
    {
      "cell_type": "code",
      "source": [
        "# elementwise difference\n",
        "print_val(m1 - m2)\n",
        "print_val(np.subtract(m1, m2))"
      ],
      "metadata": {
        "id": "ffGWrTX5noOb"
      },
      "execution_count": null,
      "outputs": []
    },
    {
      "cell_type": "code",
      "source": [
        "# elementwise product\n",
        "print_val(m1 * m2)\n",
        "print_val(np.multiply(m1, m2))"
      ],
      "metadata": {
        "id": "e2kGi9SMnzxs"
      },
      "execution_count": null,
      "outputs": []
    },
    {
      "cell_type": "code",
      "source": [
        "# elementwise division\n",
        "print_val(m1 / m2)\n",
        "print_val(np.divide(m1, m2))"
      ],
      "metadata": {
        "id": "A_4OMixgn8Ls"
      },
      "execution_count": null,
      "outputs": []
    },
    {
      "cell_type": "code",
      "source": [
        "# elementwise square root\n",
        "print_val(np.sqrt(m1))"
      ],
      "metadata": {
        "id": "4BkDn0hVoDa2"
      },
      "execution_count": null,
      "outputs": []
    },
    {
      "cell_type": "markdown",
      "source": [
        "행렬 연산"
      ],
      "metadata": {
        "id": "icJyPXH3oUbv"
      }
    },
    {
      "cell_type": "code",
      "source": [
        "m1 = np.array([[1,2],[3,4]]) # (2,2)\n",
        "m2 = np.array([[5,6],[7,8]]) # (2,2)\n",
        "v1 = np.array([9,10]) # (2,1)  #[[9,10]] (1,2)\n",
        "v2 = np.array([11,12]) # (2,1)\n",
        "\n",
        "print_val(m1)\n",
        "print_val(m2)\n",
        "print_val(v1)\n",
        "print_val(v2)"
      ],
      "metadata": {
        "id": "68NSYFHIoeey"
      },
      "execution_count": null,
      "outputs": []
    },
    {
      "cell_type": "markdown",
      "source": [
        "벡터-벡터 연산"
      ],
      "metadata": {
        "id": "U_sQtApao1kt"
      }
    },
    {
      "cell_type": "code",
      "source": [
        "print_val(v1.dot(v2))\n",
        "print_val(np.dot(v1, v2))"
      ],
      "metadata": {
        "id": "1Lpb1N9so3d-"
      },
      "execution_count": null,
      "outputs": []
    },
    {
      "cell_type": "markdown",
      "source": [
        "벡터-행렬 연산"
      ],
      "metadata": {
        "id": "lkx8RYYbo87z"
      }
    },
    {
      "cell_type": "code",
      "source": [
        "print_val(m1.dot(v1)) # (2,2) x (2,1) -> (2,1)\n",
        "print_val(np.dot(m1, v1))"
      ],
      "metadata": {
        "id": "j2oeJvVlo-Zd"
      },
      "execution_count": null,
      "outputs": []
    },
    {
      "cell_type": "markdown",
      "source": [
        "행렬-행렬 연산"
      ],
      "metadata": {
        "id": "hmruMeZbpMgB"
      }
    },
    {
      "cell_type": "code",
      "source": [
        "print_val(m1.dot(m2))\n",
        "print_val(np.dot(m1, m2))"
      ],
      "metadata": {
        "id": "fEoDQn1YpOgp"
      },
      "execution_count": null,
      "outputs": []
    },
    {
      "cell_type": "markdown",
      "source": [
        "전치 행렬 (transpose)"
      ],
      "metadata": {
        "id": "m6T565h_qYZe"
      }
    },
    {
      "cell_type": "code",
      "source": [
        "print_val(m1)\n",
        "print_val(m1.T)"
      ],
      "metadata": {
        "id": "qgsF7G4_qbJP"
      },
      "execution_count": null,
      "outputs": []
    },
    {
      "cell_type": "markdown",
      "source": [
        "합"
      ],
      "metadata": {
        "id": "j_HecnKjqf6j"
      }
    },
    {
      "cell_type": "code",
      "source": [
        "print_val(np.sum(m1)) # 행렬의 모든 원소의 합\n",
        "print_val(np.sum(m1, axis=0)) # shape[0] (행) 을 압축시키자. (2,2) -> (2,)\n",
        "print_val(np.sum(m1, axis=1)) # shape[1] (열) 을 압축시키자. (2,2) -> (2,)"
      ],
      "metadata": {
        "id": "imUnWbvKqgif"
      },
      "execution_count": null,
      "outputs": []
    },
    {
      "cell_type": "code",
      "source": [
        "m1 = np.array([[1,2,3],[4,5,6]])\n",
        "print (m1)\n",
        "print (m1.shape) # (2,3)"
      ],
      "metadata": {
        "id": "Gx5DzTF-v63P"
      },
      "execution_count": null,
      "outputs": []
    },
    {
      "cell_type": "code",
      "source": [
        "print (np.sum(m1))\n",
        "print (np.sum(m1, axis=0)) # shape[0] (행) 을 압축시키자. (2,3) ->\n",
        "print (np.sum(m1, axis=1)) # shape[1] (열) 을 압축시키자. (2,3) ->"
      ],
      "metadata": {
        "id": "PDHPkwRPwLuw"
      },
      "execution_count": null,
      "outputs": []
    },
    {
      "cell_type": "markdown",
      "source": [
        "zeros-like"
      ],
      "metadata": {
        "id": "BvKXRDvhwrJe"
      }
    },
    {
      "cell_type": "code",
      "source": [
        "m1 = np.array([[1,2,3],\n",
        "               [4,5,6],\n",
        "               [7,8,9],\n",
        "               [10,11,12]])\n",
        "m2 = np.zeros_like(m1) # m1과 같은 형태의 0으로 이루어진 np array\n",
        "print_val(m1)\n",
        "print_val(m2)"
      ],
      "metadata": {
        "id": "i842RAHpwszR"
      },
      "execution_count": null,
      "outputs": []
    },
    {
      "cell_type": "markdown",
      "source": [
        "Matplot library"
      ],
      "metadata": {
        "id": "K_SXIaZWw8sm"
      }
    },
    {
      "cell_type": "code",
      "source": [
        "import matplotlib.pyplot as plt\n",
        "%matplotlib inline"
      ],
      "metadata": {
        "id": "jMsRmNWGw-zB"
      },
      "execution_count": 33,
      "outputs": []
    },
    {
      "cell_type": "code",
      "source": [
        "# sin 커브\n",
        "x = np.arange(0, 10, 0.1) # 0~10 까지 0.1 간격의 숫자 배열\n",
        "y = np.sin(x)\n",
        "\n",
        "plt.plot(x, y)"
      ],
      "metadata": {
        "id": "F2hx6S2dxFbA"
      },
      "execution_count": null,
      "outputs": []
    },
    {
      "cell_type": "markdown",
      "source": [
        "한 번에 두 개 그래프 그리기"
      ],
      "metadata": {
        "id": "MA8GHdX7x9Ub"
      }
    },
    {
      "cell_type": "code",
      "source": [
        "y_sin = np.sin(x)\n",
        "y_cos = np.cos(x)\n",
        "\n",
        "plt.plot(x, y_sin)\n",
        "plt.plot(x, y_cos)\n",
        "plt.xlabel('x axis label')\n",
        "plt.ylabel('y axis label')\n",
        "plt.title('sin and cos')\n",
        "plt.legend(['sin', 'cos'])\n",
        "\n",
        "plt.show()"
      ],
      "metadata": {
        "id": "ybpWa_XGx_QC"
      },
      "execution_count": null,
      "outputs": []
    },
    {
      "cell_type": "markdown",
      "source": [
        "Subplot"
      ],
      "metadata": {
        "id": "lg-4SZz2yTdg"
      }
    },
    {
      "cell_type": "code",
      "source": [
        "plt.subplot(2, 1, 1) # (2,1) 형태 플랏의 첫 번째 자리에 그리겠다\n",
        "plt.plot(x, y_sin)\n",
        "plt.title('sin')\n",
        "\n",
        "plt.subplot(2,1,2)\n",
        "plt.plot(x, y_cos)\n",
        "plt.title('cos')\n",
        "\n",
        "plt.show()"
      ],
      "metadata": {
        "id": "TUGqlxXYyVDi"
      },
      "execution_count": null,
      "outputs": []
    },
    {
      "cell_type": "markdown",
      "source": [
        "# **3. 파이토치 기초**"
      ],
      "metadata": {
        "id": "AYIPcZ32zGu7"
      }
    },
    {
      "cell_type": "code",
      "source": [
        "import torch"
      ],
      "metadata": {
        "id": "pMjPcCYozML6"
      },
      "execution_count": 37,
      "outputs": []
    },
    {
      "cell_type": "code",
      "source": [
        "x = torch.rand(2,3,2) # uniform: 0~1 사이 모든 값들이 나올 확률이 같음\n",
        "print_val(x)\n",
        "\n",
        "x = torch.randn(2,3)\n",
        "print_val(x)"
      ],
      "metadata": {
        "id": "kSdpnQqzzQRf"
      },
      "execution_count": null,
      "outputs": []
    },
    {
      "cell_type": "code",
      "source": [
        "x = torch.randperm(4) # 0 ~ n-1 까지 값을 원소로 갖는 배열 -> 랜덤 배열\n",
        "print_val(x)"
      ],
      "metadata": {
        "id": "hVN2nSDjzaxy"
      },
      "execution_count": null,
      "outputs": []
    },
    {
      "cell_type": "code",
      "source": [
        "# [start, end] 구간을 step 단위로 나눠서 배열로 생성\n",
        "x = torch.arange(0,3, step=0.5)\n",
        "print_val(x)"
      ],
      "metadata": {
        "id": "tz4V5FRMzqOX"
      },
      "execution_count": null,
      "outputs": []
    },
    {
      "cell_type": "code",
      "source": [
        "print_val( torch.ones(3,4))\n",
        "print_val( torch.zeros(3,4))"
      ],
      "metadata": {
        "id": "jKwKb0HZzyRl"
      },
      "execution_count": null,
      "outputs": []
    },
    {
      "cell_type": "code",
      "source": [
        "print_val( torch.Tensor(2,4))"
      ],
      "metadata": {
        "id": "XYQ9qU15z3r9"
      },
      "execution_count": null,
      "outputs": []
    },
    {
      "cell_type": "code",
      "source": [
        "print_val( torch.Tensor([2,3]))\n",
        "print_val( torch.Tensor([[2,3],[3,4]]))"
      ],
      "metadata": {
        "id": "uogzfX9Hz8rP"
      },
      "execution_count": null,
      "outputs": []
    },
    {
      "cell_type": "code",
      "source": [
        "# 텐서 타입 변환\n",
        "x = torch.FloatTensor(2,3)\n",
        "print_val(x)\n",
        "\n",
        "x = x.type_as(torch.IntTensor())\n",
        "print_val(x)"
      ],
      "metadata": {
        "id": "bzF-rmRl0DMF"
      },
      "execution_count": null,
      "outputs": []
    },
    {
      "cell_type": "code",
      "source": [
        "# 텐서 크기 반환\n",
        "torch.FloatTensor(3,4,5).size()"
      ],
      "metadata": {
        "id": "ic6tgjdE0U3t"
      },
      "execution_count": null,
      "outputs": []
    },
    {
      "cell_type": "code",
      "source": [
        "#numpy array -> torch tensor\n",
        "import numpy as np\n",
        "np_x = np.ndarray((2,3), dtype=int)\n",
        "print_val(np_x)\n",
        "\n",
        "x = torch.from_numpy(np_x)\n",
        "print_val(x)"
      ],
      "metadata": {
        "id": "47aKR_es0ZSU"
      },
      "execution_count": null,
      "outputs": []
    },
    {
      "cell_type": "markdown",
      "source": [
        "# **4. MNIST 데이터로드**"
      ],
      "metadata": {
        "id": "vfRvmZRE0wBq"
      }
    },
    {
      "cell_type": "code",
      "source": [
        "import torchvision.datasets as dset\n",
        "import torchvision.transforms as transforms\n",
        "from torch.utils.data import DataLoader\n",
        "from torch.autograd import Variable\n",
        "import matplotlib.pyplot as plt\n",
        "%matplotlib inline"
      ],
      "metadata": {
        "id": "SQ8mxI2F00Sh"
      },
      "execution_count": 50,
      "outputs": []
    },
    {
      "cell_type": "markdown",
      "source": [
        "0) MNIST는 어떻게 생겼나?"
      ],
      "metadata": {
        "id": "g824NRF32sf1"
      }
    },
    {
      "cell_type": "code",
      "source": [
        "# 1. MNIST 로드\n",
        "mnist_train=dset.MNIST(\"\", train=True,transform=transforms.ToTensor(),   #train 용으로 쓰겠다.\n",
        "                       target_transform=None, download=True)\n",
        "\n",
        "# 2. 그려보기\n",
        "# MNIST data 하나 형태 출력\n",
        "image, label = mnist_train.__getitem__(0)\n",
        "print (image.size(), label)\n",
        "\n",
        "image, label = mnist_train[1]\n",
        "print (image.size(), label)\n",
        "\n",
        "print (mnist_train.__len__())\n",
        "print (\"mnist_train 길이:\", len(mnist_train))\n",
        "\n",
        "# 그리기\n",
        "print (mnist_train[0][1])  # label\n",
        "print (mnist_train[0][0].size()) # image\n",
        "\n",
        "for i in range(3):\n",
        "  img = mnist_train[i][0].numpy() # image 타입을 numpy 로 변환 (1,28,28)\n",
        "  #print \"label:\", mnist_train[i][1]\n",
        "  plt.title(\"label: %d\" %mnist_train[i][1])\n",
        "  plt.imshow(img[0], cmap='gray')\n",
        "  plt.show()"
      ],
      "metadata": {
        "id": "RZ372GnV1FXz"
      },
      "execution_count": null,
      "outputs": []
    },
    {
      "cell_type": "markdown",
      "source": [
        "1) MNIST train, test dataset 가져오기"
      ],
      "metadata": {
        "id": "XzbhDxdO3Cjz"
      }
    },
    {
      "cell_type": "code",
      "source": [
        "# \"\": 현재 폴더에 MNIST 있음\n",
        "mnist_train=dset.MNIST(\"\", train=True,transform=transforms.ToTensor(),    #train 용으로 쓰겠다.\n",
        "                       target_transform=None, download=True)\n",
        "mnist_test=dset.MNIST(\"\", train=False,transform=transforms.ToTensor(),    #test 용으로 쓰겠다.\n",
        "                       target_transform=None, download=True)"
      ],
      "metadata": {
        "id": "7jmxJcP73GEv"
      },
      "execution_count": 55,
      "outputs": []
    },
    {
      "cell_type": "markdown",
      "source": [
        "2) 대략적인 데이터 형태"
      ],
      "metadata": {
        "id": "Vf9ZmQFZ3bp4"
      }
    },
    {
      "cell_type": "code",
      "source": [
        "print (\"mnist_train 길이:\", len(mnist_train))\n",
        "print (\"mnist_test 길이:\", len(mnist_test))\n",
        "\n",
        "# 데이터 하나 형태\n",
        "image, label = mnist_train.__getitem__(0) # 0번째 데이터\n",
        "print (\"image data 형태:\", image.size())\n",
        "print (\"label:\", label)\n",
        "\n",
        "# 그리기\n",
        "img = image.numpy() # image 타입을 numpy 로 변환 (1,28,28)\n",
        "plt.title(\"label: %d\" %label)\n",
        "plt.imshow(img[0], cmap='gray')\n",
        "plt.show()"
      ],
      "metadata": {
        "id": "QKpLtNAw3dOv"
      },
      "execution_count": null,
      "outputs": []
    },
    {
      "cell_type": "markdown",
      "source": [
        "3) 데이터 로드함수\n",
        "\n",
        "학습시킬 때 batch_size 단위로 끊어서 로드하기 위함"
      ],
      "metadata": {
        "id": "ywDs-mW_4NLA"
      }
    },
    {
      "cell_type": "code",
      "source": [
        "batch_size = 16"
      ],
      "metadata": {
        "id": "SU8s5mRp4Os1"
      },
      "execution_count": 58,
      "outputs": []
    },
    {
      "cell_type": "code",
      "source": [
        "train_loader = torch.utils.data.DataLoader(list(mnist_train)[:batch_size*100], batch_size=batch_size,\n",
        "                                           # mnist_train 를 트레인 시키자.\n",
        "                                           shuffle=True, num_workers=2,\n",
        "                                           drop_last=True) # batch_size 만큼 나눌 때 나머지는 버려라\n",
        "\n",
        "test_loader = torch.utils.data.DataLoader((mnist_test), batch_size=batch_size,\n",
        "                                          shuffle=False, num_workers=2,\n",
        "                                          drop_last=True)"
      ],
      "metadata": {
        "id": "2sEB-LEA4bSt"
      },
      "execution_count": 59,
      "outputs": []
    },
    {
      "cell_type": "markdown",
      "source": [
        "4) 데이터 로드함수 이해하기"
      ],
      "metadata": {
        "id": "ifwpurFt4584"
      }
    },
    {
      "cell_type": "code",
      "source": [
        "n = 3 # 샘플로 그려볼 데이터 개수\n",
        "for i, [imgs, labels] in enumerate(test_loader): # batch_size 만큼\n",
        "  if i>5:\n",
        "    break\n",
        "\n",
        "  print (\"[%d]\" %i)\n",
        "  print (\"한 번에 로드되는 데이터 크기:\", len(imgs))\n",
        "\n",
        "  # GPU 에 로드되기 위함. 만약 CPU로 설정되어 있다면 자동으로(?) CPU로 로드됨\n",
        "  x = Variable(imgs)#.cuda() # (batch_size, 1, 28, 28)\n",
        "  x = x.reshape((x.shape[0], x.shape[2], x.shape[3])) # (batch_size, 1, 28, 28) -> (batch_size, 28, 28)\n",
        "  y_ = Variable(labels)#.cuda() # (batch_size)\n",
        "\n",
        "  print (x.shape)\n",
        "  print (y_.shape)\n",
        "\n",
        "  # 그리기\n",
        "  for j in range(n):\n",
        "    img = imgs[j].numpy() # image 타입을 numpy 로 변환 (1, 28, 28)\n",
        "    img = img.reshape((img.shape[1], img.shape[2])) # (1, 28, 28) -> (28, 28)\n",
        "    #print (img.shape)\n",
        "\n",
        "    plt.subplot(1, n, j+1) # (1,3) 형태 플랏의 j 번째 자리에 그리겠다\n",
        "    plt.imshow(img, cmap='gray')\n",
        "    plt.title(\"label: %d\" %labels[j])\n",
        "  plt.show()"
      ],
      "metadata": {
        "id": "_UTIE6jn48LQ"
      },
      "execution_count": null,
      "outputs": []
    }
  ]
}