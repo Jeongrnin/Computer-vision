{
  "nbformat": 4,
  "nbformat_minor": 0,
  "metadata": {
    "colab": {
      "provenance": [],
      "authorship_tag": "ABX9TyPJIho1Gat55CvimXBtpKMX",
      "include_colab_link": true
    },
    "kernelspec": {
      "name": "python3",
      "display_name": "Python 3"
    },
    "language_info": {
      "name": "python"
    }
  },
  "cells": [
    {
      "cell_type": "markdown",
      "metadata": {
        "id": "view-in-github",
        "colab_type": "text"
      },
      "source": [
        "<a href=\"https://colab.research.google.com/github/Jeongrnin/Computer-vision/blob/main/HelloWorld.ipynb\" target=\"_parent\"><img src=\"https://colab.research.google.com/assets/colab-badge.svg\" alt=\"Open In Colab\"/></a>"
      ]
    },
    {
      "cell_type": "markdown",
      "source": [
        "1. OpenAI API 키 설정"
      ],
      "metadata": {
        "id": "g9OKsy8dlBe1"
      }
    },
    {
      "cell_type": "code",
      "execution_count": 1,
      "metadata": {
        "id": "9iU8oAt6i0YS"
      },
      "outputs": [],
      "source": [
        "# 발급받은 API 키 설정\n",
        "OPENAI_API_KEY = \"\""
      ]
    },
    {
      "cell_type": "markdown",
      "source": [
        "2. OpenAI 모듈 설치"
      ],
      "metadata": {
        "id": "dMO5U94PlGsd"
      }
    },
    {
      "cell_type": "code",
      "source": [
        "!pip install openai==0.28"
      ],
      "metadata": {
        "colab": {
          "base_uri": "https://localhost:8080/"
        },
        "id": "7e8_e9rjk5WG",
        "outputId": "599522c3-206c-4375-b753-77a0179f62ea"
      },
      "execution_count": 2,
      "outputs": [
        {
          "output_type": "stream",
          "name": "stdout",
          "text": [
            "Collecting openai==0.28\n",
            "  Downloading openai-0.28.0-py3-none-any.whl.metadata (13 kB)\n",
            "Requirement already satisfied: requests>=2.20 in /usr/local/lib/python3.10/dist-packages (from openai==0.28) (2.32.3)\n",
            "Requirement already satisfied: tqdm in /usr/local/lib/python3.10/dist-packages (from openai==0.28) (4.66.6)\n",
            "Requirement already satisfied: aiohttp in /usr/local/lib/python3.10/dist-packages (from openai==0.28) (3.10.10)\n",
            "Requirement already satisfied: charset-normalizer<4,>=2 in /usr/local/lib/python3.10/dist-packages (from requests>=2.20->openai==0.28) (3.4.0)\n",
            "Requirement already satisfied: idna<4,>=2.5 in /usr/local/lib/python3.10/dist-packages (from requests>=2.20->openai==0.28) (3.10)\n",
            "Requirement already satisfied: urllib3<3,>=1.21.1 in /usr/local/lib/python3.10/dist-packages (from requests>=2.20->openai==0.28) (2.2.3)\n",
            "Requirement already satisfied: certifi>=2017.4.17 in /usr/local/lib/python3.10/dist-packages (from requests>=2.20->openai==0.28) (2024.8.30)\n",
            "Requirement already satisfied: aiohappyeyeballs>=2.3.0 in /usr/local/lib/python3.10/dist-packages (from aiohttp->openai==0.28) (2.4.3)\n",
            "Requirement already satisfied: aiosignal>=1.1.2 in /usr/local/lib/python3.10/dist-packages (from aiohttp->openai==0.28) (1.3.1)\n",
            "Requirement already satisfied: attrs>=17.3.0 in /usr/local/lib/python3.10/dist-packages (from aiohttp->openai==0.28) (24.2.0)\n",
            "Requirement already satisfied: frozenlist>=1.1.1 in /usr/local/lib/python3.10/dist-packages (from aiohttp->openai==0.28) (1.5.0)\n",
            "Requirement already satisfied: multidict<7.0,>=4.5 in /usr/local/lib/python3.10/dist-packages (from aiohttp->openai==0.28) (6.1.0)\n",
            "Requirement already satisfied: yarl<2.0,>=1.12.0 in /usr/local/lib/python3.10/dist-packages (from aiohttp->openai==0.28) (1.17.0)\n",
            "Requirement already satisfied: async-timeout<5.0,>=4.0 in /usr/local/lib/python3.10/dist-packages (from aiohttp->openai==0.28) (4.0.3)\n",
            "Requirement already satisfied: typing-extensions>=4.1.0 in /usr/local/lib/python3.10/dist-packages (from multidict<7.0,>=4.5->aiohttp->openai==0.28) (4.12.2)\n",
            "Requirement already satisfied: propcache>=0.2.0 in /usr/local/lib/python3.10/dist-packages (from yarl<2.0,>=1.12.0->aiohttp->openai==0.28) (0.2.0)\n",
            "Downloading openai-0.28.0-py3-none-any.whl (76 kB)\n",
            "\u001b[?25l   \u001b[90m━━━━━━━━━━━━━━━━━━━━━━━━━━━━━━━━━━━━━━━━\u001b[0m \u001b[32m0.0/76.5 kB\u001b[0m \u001b[31m?\u001b[0m eta \u001b[36m-:--:--\u001b[0m\r\u001b[2K   \u001b[90m━━━━━━━━━━━━━━━━━━━━━━━━━━━━━━━━━━━━━━━━\u001b[0m \u001b[32m76.5/76.5 kB\u001b[0m \u001b[31m2.4 MB/s\u001b[0m eta \u001b[36m0:00:00\u001b[0m\n",
            "\u001b[?25hInstalling collected packages: openai\n",
            "  Attempting uninstall: openai\n",
            "    Found existing installation: openai 1.52.2\n",
            "    Uninstalling openai-1.52.2:\n",
            "      Successfully uninstalled openai-1.52.2\n",
            "Successfully installed openai-0.28.0\n"
          ]
        }
      ]
    },
    {
      "cell_type": "markdown",
      "source": [
        "3. OpenAI 모듈 import"
      ],
      "metadata": {
        "id": "wHxWnowzlJah"
      }
    },
    {
      "cell_type": "code",
      "source": [
        "import openai"
      ],
      "metadata": {
        "id": "hHacEpsrk-PN"
      },
      "execution_count": 3,
      "outputs": []
    },
    {
      "cell_type": "markdown",
      "source": [
        "4. 모델 설정"
      ],
      "metadata": {
        "id": "6JwBr_SrlNsR"
      }
    },
    {
      "cell_type": "code",
      "source": [
        "# openai API 키인증\n",
        "openai.api_key = OPENAI_API_KEY\n",
        "\n",
        " # 사용가능한모델(2024-07월초)\n",
        " # gpt-4o-2024-05-13\n",
        " # gpt-4o\n",
        " # gpt-4-turbo-preview\n",
        " # gpt-4-1106-preview\n",
        " # gpt-4-0613\n",
        " # gpt-4-0125-preview\n",
        " # gpt-4\n",
        " # gpt-3.5-turbo-16k\n",
        " # gpt-3.5-turbo-1106\n",
        " # gpt-3.5-burbo-0125\n",
        " # gpt-3.5-turbo\n",
        "\n",
        "model = \"gpt-3.5-turbo-0125\""
      ],
      "metadata": {
        "id": "pFDjrWzMk_1Y"
      },
      "execution_count": 6,
      "outputs": []
    },
    {
      "cell_type": "markdown",
      "source": [
        "5. 메시지 작성하기"
      ],
      "metadata": {
        "id": "bhO-15Y7lU4G"
      }
    },
    {
      "cell_type": "code",
      "source": [
        "# 질문 작성하기\n",
        "query = \"프랑스의 수도를 알려줘.\"\n",
        "\n",
        " # 메시지 설정하기\n",
        "messages = [{\n",
        " \"role\": \"user\",\n",
        " \"content\": query\n",
        " }]"
      ],
      "metadata": {
        "id": "h6NoYV0hlTCj"
      },
      "execution_count": 18,
      "outputs": []
    },
    {
      "cell_type": "markdown",
      "source": [
        "6. OpenAI API를 이용한 ChatGPT 사용하기"
      ],
      "metadata": {
        "id": "mzTONuSXlaJS"
      }
    },
    {
      "cell_type": "code",
      "source": [
        "# ChatGPT API를 이용한 ChatGPT 사용하기\n",
        "response = openai.ChatCompletion.create(\n",
        " model=model,\n",
        " messages=messages\n",
        " )\n",
        "\n",
        "answer = response.choices[0].message.content\n",
        "print(answer)"
      ],
      "metadata": {
        "colab": {
          "base_uri": "https://localhost:8080/"
        },
        "id": "T1gTDJD4lfPE",
        "outputId": "6ee51951-8d61-4620-e921-ab11aab136e8"
      },
      "execution_count": 19,
      "outputs": [
        {
          "output_type": "stream",
          "name": "stdout",
          "text": [
            "프랑스의 수도는 파리(Paris)입니다.\n"
          ]
        }
      ]
    },
    {
      "cell_type": "markdown",
      "source": [
        "7. 또 다른 사용 예"
      ],
      "metadata": {
        "id": "0znm9BFcljqJ"
      }
    },
    {
      "cell_type": "code",
      "source": [
        "# 메시지 설정하기\n",
        "messages = [{\n",
        " \"role\": \"system\",\n",
        " \"content\": \"You are a helpful assistant.\"\n",
        " }, {\n",
        " \"role\": \"user\",\n",
        " \"content\": query\n",
        " }]"
      ],
      "metadata": {
        "id": "r094EC-Hll7U"
      },
      "execution_count": 20,
      "outputs": []
    },
    {
      "cell_type": "code",
      "source": [
        "# ChatGPT API를 이용한 ChatGPT 사용하기\n",
        "response = openai.ChatCompletion.create(\n",
        " model=model,\n",
        " messages=messages\n",
        " )\n",
        "\n",
        "answer = response.choices[0].message.content\n",
        "print(answer)"
      ],
      "metadata": {
        "colab": {
          "base_uri": "https://localhost:8080/"
        },
        "id": "FH3BLrNE9Od5",
        "outputId": "3b0889ea-6bc4-4408-c82e-1b7e4a1f739b"
      },
      "execution_count": 21,
      "outputs": [
        {
          "output_type": "stream",
          "name": "stdout",
          "text": [
            "프랑스의 수도는 파리(Paris)입니다.\n"
          ]
        }
      ]
    },
    {
      "cell_type": "code",
      "source": [
        "# 메시지 설정하기\n",
        "messages = [{\n",
        " \"role\": \"system\",\n",
        " \"content\": \"You are a humorous assistant.\"\n",
        " }, {\n",
        " \"role\": \"user\",\n",
        " \"content\": query\n",
        " }]"
      ],
      "metadata": {
        "id": "myp6JASPlprW"
      },
      "execution_count": 22,
      "outputs": []
    },
    {
      "cell_type": "code",
      "source": [
        "# ChatGPT API를 이용한 ChatGPT 사용하기\n",
        "response = openai.ChatCompletion.create(\n",
        " model=model,\n",
        " messages=messages\n",
        " )\n",
        "\n",
        "answer = response.choices[0].message.content\n",
        "print(answer)"
      ],
      "metadata": {
        "colab": {
          "base_uri": "https://localhost:8080/"
        },
        "id": "2R7SPnQU9PXP",
        "outputId": "889e9305-d3cd-4f73-f159-64fd43a221f8"
      },
      "execution_count": 23,
      "outputs": [
        {
          "output_type": "stream",
          "name": "stdout",
          "text": [
            "프랑스의 수도는 파리입니다. 그곳에서는 에펠탑을 비롯한 많은 유명한 랜드마크들을 볼 수 있어요. 파리에서는 로맨틱한 산책을 즐길 수도 있고, 훌륭한 음식과 와인을 맛볼 수도 있어요. 혹시 프랑스 여행을 계획 중이신가요?\n"
          ]
        }
      ]
    },
    {
      "cell_type": "code",
      "source": [
        "# 메시지 설정하기\n",
        "messages = [{\n",
        " \"role\": \"system\",\n",
        " \"content\": \"You are a sarcasm assistant.\"\n",
        " }, {\n",
        " \"role\": \"user\",\n",
        " \"content\": query\n",
        " }]"
      ],
      "metadata": {
        "id": "6gi0-MpplvA_"
      },
      "execution_count": 24,
      "outputs": []
    },
    {
      "cell_type": "code",
      "source": [
        "# ChatGPT API를 이용한 ChatGPT 사용하기\n",
        "response = openai.ChatCompletion.create(\n",
        " model=model,\n",
        " messages=messages\n",
        " )\n",
        "\n",
        "answer = response.choices[0].message.content\n",
        "print(answer)"
      ],
      "metadata": {
        "colab": {
          "base_uri": "https://localhost:8080/"
        },
        "id": "8LaVBg4l9QHC",
        "outputId": "42ad5ee5-2b49-435c-cb0e-2673e487af50"
      },
      "execution_count": 25,
      "outputs": [
        {
          "output_type": "stream",
          "name": "stdout",
          "text": [
            "네, 알려드릴게요. 프랑스의 수도는 서울입니다. \n",
            "\n",
            "Just kidding! 프랑스의 수도는 파리입니다.\n"
          ]
        }
      ]
    },
    {
      "cell_type": "code",
      "source": [
        "# 메시지 설정하기\n",
        "messages = [{\n",
        " \"role\": \"system\",\n",
        " \"content\": \"You are a pessimistic assistant.\"\n",
        " }, {\n",
        " \"role\": \"user\",\n",
        " \"content\": query\n",
        " }]"
      ],
      "metadata": {
        "id": "VCLqYiRfl307"
      },
      "execution_count": 30,
      "outputs": []
    },
    {
      "cell_type": "code",
      "source": [
        "# ChatGPT API를 이용한 ChatGPT 사용하기\n",
        "response = openai.ChatCompletion.create(\n",
        " model=model,\n",
        " messages=messages\n",
        " )\n",
        "\n",
        "answer = response.choices[0].message.content\n",
        "print(answer)"
      ],
      "metadata": {
        "colab": {
          "base_uri": "https://localhost:8080/"
        },
        "id": "HZh39y9U9QtV",
        "outputId": "3cf0a1be-b1d0-490f-da72-87267436cdfc"
      },
      "execution_count": 32,
      "outputs": [
        {
          "output_type": "stream",
          "name": "stdout",
          "text": [
            "파리죠. 하지만 그것이 중요한가요? 별다른 영향을 끼치지 않을 텐데요.\n"
          ]
        }
      ]
    }
  ]
}