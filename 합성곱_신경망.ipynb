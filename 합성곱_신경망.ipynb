{
  "nbformat": 4,
  "nbformat_minor": 0,
  "metadata": {
    "colab": {
      "provenance": [],
      "gpuType": "T4",
      "authorship_tag": "ABX9TyMawpHz8rfGMOuA4nf0aSU7",
      "include_colab_link": true
    },
    "kernelspec": {
      "name": "python3",
      "display_name": "Python 3"
    },
    "language_info": {
      "name": "python"
    },
    "accelerator": "GPU"
  },
  "cells": [
    {
      "cell_type": "markdown",
      "metadata": {
        "id": "view-in-github",
        "colab_type": "text"
      },
      "source": [
        "<a href=\"https://colab.research.google.com/github/Jeongrnin/Computer-vision/blob/cnn/%ED%95%A9%EC%84%B1%EA%B3%B1_%EC%8B%A0%EA%B2%BD%EB%A7%9D.ipynb\" target=\"_parent\"><img src=\"https://colab.research.google.com/assets/colab-badge.svg\" alt=\"Open In Colab\"/></a>"
      ]
    },
    {
      "cell_type": "markdown",
      "source": [
        "Load Packages"
      ],
      "metadata": {
        "id": "cQsJpC9rClDL"
      }
    },
    {
      "cell_type": "code",
      "source": [
        "import torch\n",
        "import torch.nn as nn\n",
        "import torchvision.datasets as dset\n",
        "import torchvision.transforms as transforms\n",
        "from torch.utils.data import DataLoader\n",
        "from torch.autograd import Variable\n",
        "import matplotlib.pyplot as plt\n",
        "%matplotlib inline"
      ],
      "metadata": {
        "id": "n03gLmv4CnX6"
      },
      "execution_count": 6,
      "outputs": []
    },
    {
      "cell_type": "markdown",
      "source": [
        "MNIST train, test dataset 가져오기"
      ],
      "metadata": {
        "id": "kWOhgRemDI3t"
      }
    },
    {
      "cell_type": "code",
      "source": [
        "# \"\": 현재 폴더에 MNIST 있음\n",
        "mnist_train=dset.MNIST(\"\", train=True, transform=transforms.ToTensor(), #train 용으로 쓰겠다.\n",
        "                       target_transform=None, download=True)\n",
        "mnist_test=dset.MNIST(\"\", train=False,transform=transforms.ToTensor(), #test 용으로 쓰겠다.\n",
        "                      target_transform=None, download=True)"
      ],
      "metadata": {
        "colab": {
          "base_uri": "https://localhost:8080/"
        },
        "id": "G8LDa8awDVhy",
        "outputId": "6fd03561-65cb-48a6-cb3a-b9146354ce17"
      },
      "execution_count": 7,
      "outputs": [
        {
          "output_type": "stream",
          "name": "stdout",
          "text": [
            "Downloading http://yann.lecun.com/exdb/mnist/train-images-idx3-ubyte.gz\n",
            "Failed to download (trying next):\n",
            "HTTP Error 403: Forbidden\n",
            "\n",
            "Downloading https://ossci-datasets.s3.amazonaws.com/mnist/train-images-idx3-ubyte.gz\n",
            "Downloading https://ossci-datasets.s3.amazonaws.com/mnist/train-images-idx3-ubyte.gz to MNIST/raw/train-images-idx3-ubyte.gz\n"
          ]
        },
        {
          "output_type": "stream",
          "name": "stderr",
          "text": [
            "100%|██████████| 9912422/9912422 [00:00<00:00, 17879434.78it/s]\n"
          ]
        },
        {
          "output_type": "stream",
          "name": "stdout",
          "text": [
            "Extracting MNIST/raw/train-images-idx3-ubyte.gz to MNIST/raw\n",
            "\n",
            "Downloading http://yann.lecun.com/exdb/mnist/train-labels-idx1-ubyte.gz\n",
            "Failed to download (trying next):\n",
            "HTTP Error 403: Forbidden\n",
            "\n",
            "Downloading https://ossci-datasets.s3.amazonaws.com/mnist/train-labels-idx1-ubyte.gz\n",
            "Downloading https://ossci-datasets.s3.amazonaws.com/mnist/train-labels-idx1-ubyte.gz to MNIST/raw/train-labels-idx1-ubyte.gz\n"
          ]
        },
        {
          "output_type": "stream",
          "name": "stderr",
          "text": [
            "100%|██████████| 28881/28881 [00:00<00:00, 555849.35it/s]\n"
          ]
        },
        {
          "output_type": "stream",
          "name": "stdout",
          "text": [
            "Extracting MNIST/raw/train-labels-idx1-ubyte.gz to MNIST/raw\n",
            "\n",
            "Downloading http://yann.lecun.com/exdb/mnist/t10k-images-idx3-ubyte.gz\n",
            "Failed to download (trying next):\n",
            "HTTP Error 403: Forbidden\n",
            "\n",
            "Downloading https://ossci-datasets.s3.amazonaws.com/mnist/t10k-images-idx3-ubyte.gz\n",
            "Downloading https://ossci-datasets.s3.amazonaws.com/mnist/t10k-images-idx3-ubyte.gz to MNIST/raw/t10k-images-idx3-ubyte.gz\n"
          ]
        },
        {
          "output_type": "stream",
          "name": "stderr",
          "text": [
            "100%|██████████| 1648877/1648877 [00:00<00:00, 3776942.48it/s]\n"
          ]
        },
        {
          "output_type": "stream",
          "name": "stdout",
          "text": [
            "Extracting MNIST/raw/t10k-images-idx3-ubyte.gz to MNIST/raw\n",
            "\n",
            "Downloading http://yann.lecun.com/exdb/mnist/t10k-labels-idx1-ubyte.gz\n",
            "Failed to download (trying next):\n",
            "HTTP Error 403: Forbidden\n",
            "\n",
            "Downloading https://ossci-datasets.s3.amazonaws.com/mnist/t10k-labels-idx1-ubyte.gz\n",
            "Downloading https://ossci-datasets.s3.amazonaws.com/mnist/t10k-labels-idx1-ubyte.gz to MNIST/raw/t10k-labels-idx1-ubyte.gz\n"
          ]
        },
        {
          "output_type": "stream",
          "name": "stderr",
          "text": [
            "100%|██████████| 4542/4542 [00:00<00:00, 5154363.84it/s]"
          ]
        },
        {
          "output_type": "stream",
          "name": "stdout",
          "text": [
            "Extracting MNIST/raw/t10k-labels-idx1-ubyte.gz to MNIST/raw\n",
            "\n"
          ]
        },
        {
          "output_type": "stream",
          "name": "stderr",
          "text": [
            "\n"
          ]
        }
      ]
    },
    {
      "cell_type": "markdown",
      "source": [
        "대략적인 데이터 형태"
      ],
      "metadata": {
        "id": "IHtFaPisD-RN"
      }
    },
    {
      "cell_type": "code",
      "source": [
        "print (\"mnist_train 길이:\", len(mnist_train))\n",
        "print (\"mnist_test 길이:\", len(mnist_test))\n",
        "\n",
        "#데이터 하나 형태\n",
        "image, label = mnist_train.__getitem__(0) #0번째 데이터\n",
        "print (\"image data 형태:\", image.size())\n",
        "print (\"label: \", label)\n",
        "\n",
        "#그리기\n",
        "img = image.numpy() #image 타입을 numpy 로 변환 (1,28,28)\n",
        "plt.title(\"label: %d\" %label)\n",
        "plt.imshow(img[0], cmap='gray')\n",
        "plt.show()"
      ],
      "metadata": {
        "colab": {
          "base_uri": "https://localhost:8080/",
          "height": 527
        },
        "id": "ooX7UFsrD_xf",
        "outputId": "1bdb4767-5f16-44b6-858b-c7ebcdc39547"
      },
      "execution_count": 8,
      "outputs": [
        {
          "output_type": "stream",
          "name": "stdout",
          "text": [
            "mnist_train 길이: 60000\n",
            "mnist_test 길이: 10000\n",
            "image data 형태: torch.Size([1, 28, 28])\n",
            "label:  5\n"
          ]
        },
        {
          "output_type": "display_data",
          "data": {
            "text/plain": [
              "<Figure size 640x480 with 1 Axes>"
            ],
            "image/png": "[encoded data removed]"
          },
          "metadata": {}
        }
      ]
    },
    {
      "cell_type": "markdown",
      "source": [
        "MNIST data 띄워보기"
      ],
      "metadata": {
        "id": "kfzz03JNEsln"
      }
    },
    {
      "cell_type": "code",
      "source": [
        "print(mnist_train[0][1]) #label\n",
        "print(mnist_train[0][0].size()) #image\n",
        "\n",
        "for i in range(3):\n",
        "  img=mnist_train[i][0].numpy()\n",
        "  print(mnist_train[i][1])\n",
        "  plt.imshow(img[0],cmap='gray')\n",
        "  plt.show()"
      ],
      "metadata": {
        "colab": {
          "base_uri": "https://localhost:8080/",
          "height": 1000
        },
        "id": "cPHKU1tcEuuv",
        "outputId": "0e9a2fbd-1972-498b-b2bb-efedf288cb91"
      },
      "execution_count": 9,
      "outputs": [
        {
          "output_type": "stream",
          "name": "stdout",
          "text": [
            "5\n",
            "torch.Size([1, 28, 28])\n",
            "5\n"
          ]
        },
        {
          "output_type": "display_data",
          "data": {
            "text/plain": [
              "<Figure size 640x480 with 1 Axes>"
            ],
            "image/png": "[encoded data removed]"
          },
          "metadata": {}
        },
        {
          "output_type": "stream",
          "name": "stdout",
          "text": [
            "0\n"
          ]
        },
        {
          "output_type": "display_data",
          "data": {
            "text/plain": [
              "<Figure size 640x480 with 1 Axes>"
            ],
            "image/png": "[encoded data removed]"
          },
          "metadata": {}
        },
        {
          "output_type": "stream",
          "name": "stdout",
          "text": [
            "4\n"
          ]
        },
        {
          "output_type": "display_data",
          "data": {
            "text/plain": [
              "<Figure size 640x480 with 1 Axes>"
            ],
            "image/png": "[encoded data removed]"
          },
          "metadata": {}
        }
      ]
    },
    {
      "cell_type": "markdown",
      "source": [
        "convolution 하나 씌워보기"
      ],
      "metadata": {
        "id": "WaR-uPvXFDjP"
      }
    },
    {
      "cell_type": "code",
      "source": [
        "#mnist의 첫번째 이미지, 라벨 가져ㅗ기\n",
        "image, label = mnist_train[0]\n",
        "#view: tensor의 사이즈 조절. -1: 해당 차원 차원 확장시켜라\n",
        "#[1,28,28]->[1,1,28,28]\n",
        "image=image.view(-1, image.size()[0], image.size()[1], image.size()[2])\n",
        "print(image.size())\n",
        "\n",
        "print(label)\n",
        "\n",
        "#convolutional filter 정의\n",
        "conv_layer=nn.Conv2d(in_channels=1, out_channels=3,kernel_size=3,padding=1)\n",
        "#image에 filter 적용\n",
        "output=conv_layer(Variable(image))\n",
        "print(output.size())\n",
        "\n",
        "for i in range(3):\n",
        "  plt.imshow(output[0,i,:,:].data.numpy(), cmap='gray')\n",
        "  plt.show()"
      ],
      "metadata": {
        "colab": {
          "base_uri": "https://localhost:8080/",
          "height": 1000
        },
        "id": "XVeJb1fYFGjw",
        "outputId": "160f72f8-e39b-4de5-d1f1-51c08f04e1b4"
      },
      "execution_count": 10,
      "outputs": [
        {
          "output_type": "stream",
          "name": "stdout",
          "text": [
            "torch.Size([1, 1, 28, 28])\n",
            "5\n",
            "torch.Size([1, 3, 28, 28])\n"
          ]
        },
        {
          "output_type": "display_data",
          "data": {
            "text/plain": [
              "<Figure size 640x480 with 1 Axes>"
            ],
            "image/png": "[encoded data removed]"
          },
          "metadata": {}
        },
        {
          "output_type": "display_data",
          "data": {
            "text/plain": [
              "<Figure size 640x480 with 1 Axes>"
            ],
            "image/png": "[encoded data removed]"
          },
          "metadata": {}
        },
        {
          "output_type": "display_data",
          "data": {
            "text/plain": [
              "<Figure size 640x480 with 1 Axes>"
            ],
            "image/png": "[encoded data removed]"
          },
          "metadata": {}
        }
      ]
    },
    {
      "cell_type": "markdown",
      "source": [
        "CNN 만들기\n",
        "train, test data 가져오기"
      ],
      "metadata": {
        "id": "YzIPVkCmGAbz"
      }
    },
    {
      "cell_type": "code",
      "source": [
        "import numpy as np\n",
        "import torch.optim as optim\n",
        "\n",
        "batch_size = 16\n",
        "learning_rate = 0.0002\n",
        "num_epoch = 10 # 1000"
      ],
      "metadata": {
        "id": "D32r9y_hGDK8"
      },
      "execution_count": 11,
      "outputs": []
    },
    {
      "cell_type": "code",
      "source": [
        "# 후에 학습시킬 때 batch_size 단위로 학습시켜나감\n",
        "train_loader = torch.utils.data.DataLoader(list(mnist_train)[:batch_size*100], batch_size=batch_size, #mnist_train를 트레인 시키\n",
        "                                           shuffle=True, num_workers=2,\n",
        "                                           drop_last=True) #batch_size 만큼 나눌 때 나머지는 버려라\n",
        "test_loader = torch.utils.data.DataLoader((mnist_test), batch_size=batch_size,\n",
        "                                          shuffle=False, num_workers=2,\n",
        "                                          drop_last=True)"
      ],
      "metadata": {
        "id": "zDrIxU8hGMu5"
      },
      "execution_count": 12,
      "outputs": []
    },
    {
      "cell_type": "markdown",
      "source": [
        "CNN 클래스 만들기(모델 만들기)"
      ],
      "metadata": {
        "id": "NRnUgAhfHW-S"
      }
    },
    {
      "cell_type": "code",
      "source": [
        "class CNN(nn.Module): #nn.Module 상속받음\n",
        "  def __init__(self):\n",
        "    super(CNN, self).__init__() # 28 x 28\n",
        "    self.layer=nn.Sequential(\n",
        "        nn.Conv2d(1, 16, 5, padding=2),\n",
        "        nn.ReLU(),\n",
        "\n",
        "        nn.Conv2d(16, 32, 5, padding=2), # 28 x 28\n",
        "        nn.ReLU(),\n",
        "        nn.MaxPool2d(2,2), # 28 x 28 -> 14 x 14\n",
        "\n",
        "        nn.Conv2d(32, 64, 5, padding=2), # 14 x 14\n",
        "        nn.ReLU(),\n",
        "        nn.MaxPool2d(2,2) # 14 x 14 -> 7 x 7\n",
        "    )\n",
        "    self.fc_layer=nn.Sequential(\n",
        "        nn.Linear(64*7*7, 100),\n",
        "        nn.ReLU(),\n",
        "        nn.Linear(100, 10)\n",
        "    )\n",
        "\n",
        "  def forward(self, x):\n",
        "    out = self.layer(x)\n",
        "    out = out.view(batch_size, -1)\n",
        "    out = self.fc_layer(out)\n",
        "    return out\n",
        "\n",
        "model = CNN().cuda()"
      ],
      "metadata": {
        "id": "bKqY15xmHZb0"
      },
      "execution_count": 13,
      "outputs": []
    },
    {
      "cell_type": "code",
      "source": [
        "# 파라미터 체크하기\n",
        "for parameter in model.parameters():\n",
        "  #print(parameter)\n",
        "  print(parameter.shape)"
      ],
      "metadata": {
        "colab": {
          "base_uri": "https://localhost:8080/"
        },
        "id": "qf7c4xSrIg37",
        "outputId": "4e839baa-2878-433f-c1b9-80bd040b3d10"
      },
      "execution_count": 14,
      "outputs": [
        {
          "output_type": "stream",
          "name": "stdout",
          "text": [
            "torch.Size([16, 1, 5, 5])\n",
            "torch.Size([16])\n",
            "torch.Size([32, 16, 5, 5])\n",
            "torch.Size([32])\n",
            "torch.Size([64, 32, 5, 5])\n",
            "torch.Size([64])\n",
            "torch.Size([100, 3136])\n",
            "torch.Size([100])\n",
            "torch.Size([10, 100])\n",
            "torch.Size([10])\n"
          ]
        }
      ]
    },
    {
      "cell_type": "code",
      "source": [
        "# loss function, optimizer 선언\n",
        "loss_func = nn.CrossEntropyLoss()\n",
        "optimizer = torch.optim.Adam(model.parameters(), lr=learning_rate)"
      ],
      "metadata": {
        "id": "c9IscehrKhBf"
      },
      "execution_count": 15,
      "outputs": []
    },
    {
      "cell_type": "markdown",
      "source": [
        "Optimization"
      ],
      "metadata": {
        "id": "RNnhAg0UKuKk"
      }
    },
    {
      "cell_type": "code",
      "source": [
        "for i in range(num_epoch):\n",
        "  for j, [image, label] in enumerate(train_loader): #batch_size 만큼\n",
        "    x = Variable(image).cuda()\n",
        "    y_ = Variable(label).cuda()\n",
        "\n",
        "    optimizer.zero_grad() # optimizer 안에서 이전 gradient 들을 초기화.\n",
        "    output=model.forward(x)\n",
        "    loss = loss_func(output, y_)\n",
        "    loss.backward() # gradient 계산\n",
        "    optimizer.step() # parameter 업데이트\n",
        "\n",
        "    if j%50==0:\n",
        "      print(loss, j, i)"
      ],
      "metadata": {
        "colab": {
          "base_uri": "https://localhost:8080/"
        },
        "id": "vfK2ATp8KwDs",
        "outputId": "c2aa0250-8acb-4c77-8292-2bfa5c3454e6"
      },
      "execution_count": 16,
      "outputs": [
        {
          "output_type": "stream",
          "name": "stdout",
          "text": [
            "tensor(2.2990, device='cuda:0', grad_fn=<NllLossBackward0>) 0 0\n",
            "tensor(1.5198, device='cuda:0', grad_fn=<NllLossBackward0>) 50 0\n",
            "tensor(0.5483, device='cuda:0', grad_fn=<NllLossBackward0>) 0 1\n",
            "tensor(0.3360, device='cuda:0', grad_fn=<NllLossBackward0>) 50 1\n",
            "tensor(0.1414, device='cuda:0', grad_fn=<NllLossBackward0>) 0 2\n",
            "tensor(0.0699, device='cuda:0', grad_fn=<NllLossBackward0>) 50 2\n",
            "tensor(0.2303, device='cuda:0', grad_fn=<NllLossBackward0>) 0 3\n",
            "tensor(0.0943, device='cuda:0', grad_fn=<NllLossBackward0>) 50 3\n",
            "tensor(0.1190, device='cuda:0', grad_fn=<NllLossBackward0>) 0 4\n",
            "tensor(0.4513, device='cuda:0', grad_fn=<NllLossBackward0>) 50 4\n",
            "tensor(0.0722, device='cuda:0', grad_fn=<NllLossBackward0>) 0 5\n",
            "tensor(0.0925, device='cuda:0', grad_fn=<NllLossBackward0>) 50 5\n",
            "tensor(0.0836, device='cuda:0', grad_fn=<NllLossBackward0>) 0 6\n",
            "tensor(0.0605, device='cuda:0', grad_fn=<NllLossBackward0>) 50 6\n",
            "tensor(0.0076, device='cuda:0', grad_fn=<NllLossBackward0>) 0 7\n",
            "tensor(0.0407, device='cuda:0', grad_fn=<NllLossBackward0>) 50 7\n",
            "tensor(0.0333, device='cuda:0', grad_fn=<NllLossBackward0>) 0 8\n",
            "tensor(0.0068, device='cuda:0', grad_fn=<NllLossBackward0>) 50 8\n",
            "tensor(0.0217, device='cuda:0', grad_fn=<NllLossBackward0>) 0 9\n",
            "tensor(0.0580, device='cuda:0', grad_fn=<NllLossBackward0>) 50 9\n"
          ]
        }
      ]
    },
    {
      "cell_type": "code",
      "source": [
        "# 모델 저장시키기\n",
        "torch.save(model, 'nets/mycnn_model_%d.pkl'%(num_epoch))"
      ],
      "metadata": {
        "id": "7G9_J2a4Lp9n"
      },
      "execution_count": 17,
      "outputs": []
    },
    {
      "cell_type": "code",
      "source": [
        "try:\n",
        "  # 미리 학습시킨 네트워크의 파라미터 집합 [피클]이라 발음함.\n",
        "  model=torch.load('nets/mycnn_model_10.pkl')\n",
        "  print(\"model restored\")\n",
        "except:\n",
        "  print(\"model not restored\")"
      ],
      "metadata": {
        "colab": {
          "base_uri": "https://localhost:8080/"
        },
        "id": "THTMhrvKLyHU",
        "outputId": "bcbfae3f-36d1-4257-961d-762707791b04"
      },
      "execution_count": 18,
      "outputs": [
        {
          "output_type": "stream",
          "name": "stdout",
          "text": [
            "model restored\n"
          ]
        }
      ]
    },
    {
      "cell_type": "code",
      "source": [
        "def ComputeAccr(dloader, imodel):\n",
        "    correct = 0\n",
        "    total = 0\n",
        "    device = torch.device(\"cuda\" if torch.cuda.is_available() else \"cpu\")\n",
        "    imodel.to(device)\n",
        "    imodel.eval()\n",
        "\n",
        "    with torch.no_grad():\n",
        "        for imgs, labels in dloader:\n",
        "            imgs, labels = imgs.to(device), labels.to(device)\n",
        "\n",
        "            output = imodel(imgs)  # forward prop.\n",
        "            _, output_index = torch.max(output, 1)\n",
        "\n",
        "            total += labels.size(0)\n",
        "            correct += (output_index == labels).sum().item()\n",
        "    print(\"Accuracy of Test Data: {:.2f}%\".format(100 * correct / total))"
      ],
      "metadata": {
        "id": "iOH4STc4MAtq"
      },
      "execution_count": 25,
      "outputs": []
    },
    {
      "cell_type": "code",
      "source": [
        "ComputeAccr(test_loader, model)"
      ],
      "metadata": {
        "colab": {
          "base_uri": "https://localhost:8080/"
        },
        "id": "f_TtQThOMxJ_",
        "outputId": "8ac03736-3c1b-43fe-e36a-55d016e65687"
      },
      "execution_count": 26,
      "outputs": [
        {
          "output_type": "stream",
          "name": "stdout",
          "text": [
            "Accuracy of Test Data: 94.74%\n"
          ]
        }
      ]
    }
  ]
}