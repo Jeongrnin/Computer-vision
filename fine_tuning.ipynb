{
  "nbformat": 4,
  "nbformat_minor": 0,
  "metadata": {
    "colab": {
      "provenance": [],
      "authorship_tag": "ABX9TyPSdPb1LBx+kfpRVt0SAlG2",
      "include_colab_link": true
    },
    "kernelspec": {
      "name": "python3",
      "display_name": "Python 3"
    },
    "language_info": {
      "name": "python"
    }
  },
  "cells": [
    {
      "cell_type": "markdown",
      "metadata": {
        "id": "view-in-github",
        "colab_type": "text"
      },
      "source": [
        "<a href=\"https://colab.research.google.com/github/Jeongrnin/Computer-vision/blob/main/fine_tuning.ipynb\" target=\"_parent\"><img src=\"https://colab.research.google.com/assets/colab-badge.svg\" alt=\"Open In Colab\"/></a>"
      ]
    },
    {
      "cell_type": "code",
      "source": [
        "# 발급받은 API 키 설정\n",
        "OPENAI_API_KEY = \"\""
      ],
      "metadata": {
        "id": "1LU-OHyMq4uw"
      },
      "execution_count": 1,
      "outputs": []
    },
    {
      "cell_type": "code",
      "source": [
        "!pip install --upgrade openai"
      ],
      "metadata": {
        "colab": {
          "base_uri": "https://localhost:8080/"
        },
        "id": "DyQpEa3hq1R0",
        "outputId": "33ec3028-c172-45d2-fb6c-ed6a17760cf1"
      },
      "execution_count": 2,
      "outputs": [
        {
          "output_type": "stream",
          "name": "stdout",
          "text": [
            "Requirement already satisfied: openai in /usr/local/lib/python3.10/dist-packages (1.54.4)\n",
            "Collecting openai\n",
            "  Downloading openai-1.55.0-py3-none-any.whl.metadata (24 kB)\n",
            "Requirement already satisfied: anyio<5,>=3.5.0 in /usr/local/lib/python3.10/dist-packages (from openai) (3.7.1)\n",
            "Requirement already satisfied: distro<2,>=1.7.0 in /usr/local/lib/python3.10/dist-packages (from openai) (1.9.0)\n",
            "Requirement already satisfied: httpx<1,>=0.23.0 in /usr/local/lib/python3.10/dist-packages (from openai) (0.27.2)\n",
            "Requirement already satisfied: jiter<1,>=0.4.0 in /usr/local/lib/python3.10/dist-packages (from openai) (0.7.1)\n",
            "Requirement already satisfied: pydantic<3,>=1.9.0 in /usr/local/lib/python3.10/dist-packages (from openai) (2.9.2)\n",
            "Requirement already satisfied: sniffio in /usr/local/lib/python3.10/dist-packages (from openai) (1.3.1)\n",
            "Requirement already satisfied: tqdm>4 in /usr/local/lib/python3.10/dist-packages (from openai) (4.66.6)\n",
            "Requirement already satisfied: typing-extensions<5,>=4.11 in /usr/local/lib/python3.10/dist-packages (from openai) (4.12.2)\n",
            "Requirement already satisfied: idna>=2.8 in /usr/local/lib/python3.10/dist-packages (from anyio<5,>=3.5.0->openai) (3.10)\n",
            "Requirement already satisfied: exceptiongroup in /usr/local/lib/python3.10/dist-packages (from anyio<5,>=3.5.0->openai) (1.2.2)\n",
            "Requirement already satisfied: certifi in /usr/local/lib/python3.10/dist-packages (from httpx<1,>=0.23.0->openai) (2024.8.30)\n",
            "Requirement already satisfied: httpcore==1.* in /usr/local/lib/python3.10/dist-packages (from httpx<1,>=0.23.0->openai) (1.0.7)\n",
            "Requirement already satisfied: h11<0.15,>=0.13 in /usr/local/lib/python3.10/dist-packages (from httpcore==1.*->httpx<1,>=0.23.0->openai) (0.14.0)\n",
            "Requirement already satisfied: annotated-types>=0.6.0 in /usr/local/lib/python3.10/dist-packages (from pydantic<3,>=1.9.0->openai) (0.7.0)\n",
            "Requirement already satisfied: pydantic-core==2.23.4 in /usr/local/lib/python3.10/dist-packages (from pydantic<3,>=1.9.0->openai) (2.23.4)\n",
            "Downloading openai-1.55.0-py3-none-any.whl (389 kB)\n",
            "\u001b[2K   \u001b[90m━━━━━━━━━━━━━━━━━━━━━━━━━━━━━━━━━━━━━━━━\u001b[0m \u001b[32m389.5/389.5 kB\u001b[0m \u001b[31m8.4 MB/s\u001b[0m eta \u001b[36m0:00:00\u001b[0m\n",
            "\u001b[?25hInstalling collected packages: openai\n",
            "  Attempting uninstall: openai\n",
            "    Found existing installation: openai 1.54.4\n",
            "    Uninstalling openai-1.54.4:\n",
            "      Successfully uninstalled openai-1.54.4\n",
            "Successfully installed openai-1.55.0\n"
          ]
        }
      ]
    },
    {
      "cell_type": "code",
      "execution_count": 6,
      "metadata": {
        "id": "j1TAGM_QoOFo",
        "colab": {
          "base_uri": "https://localhost:8080/"
        },
        "outputId": "774e6ee6-cf61-42a5-9d6d-d178dc89e889"
      },
      "outputs": [
        {
          "output_type": "stream",
          "name": "stdout",
          "text": [
            "file-Gr4FPaxzeeEPhYcPVffAGQ\n"
          ]
        }
      ],
      "source": [
        "from openai import OpenAI\n",
        "\n",
        "client = OpenAI(api_key=OPENAI_API_KEY)\n",
        "\n",
        "myfile = client.files.create(\n",
        "    file=open(\"king-style-chat.jsonl\", \"rb\"),\n",
        "    purpose=\"fine-tune\"\n",
        ")\n",
        "\n",
        "print(myfile.id)"
      ]
    },
    {
      "cell_type": "code",
      "source": [
        "myjob = client.fine_tuning.jobs.create(\n",
        "    training_file=myfile.id,\n",
        "    model=\"gpt-3.5-turbo\"\n",
        ")\n",
        "\n",
        "print(myjob.id)"
      ],
      "metadata": {
        "colab": {
          "base_uri": "https://localhost:8080/"
        },
        "id": "VKeM5cd_rPjR",
        "outputId": "2ff61a42-4b73-4168-a32c-3fd302a244e6"
      },
      "execution_count": 7,
      "outputs": [
        {
          "output_type": "stream",
          "name": "stdout",
          "text": [
            "ftjob-Law4amVFFG8C0sKOCoGP5U73\n"
          ]
        }
      ]
    },
    {
      "cell_type": "code",
      "source": [
        "print(myjob.status)"
      ],
      "metadata": {
        "colab": {
          "base_uri": "https://localhost:8080/"
        },
        "id": "G7CbGcblreFc",
        "outputId": "4e4f5311-e3cf-46f2-bce1-f19cb7e6b3de"
      },
      "execution_count": 8,
      "outputs": [
        {
          "output_type": "stream",
          "name": "stdout",
          "text": [
            "validating_files\n"
          ]
        }
      ]
    },
    {
      "cell_type": "code",
      "source": [
        "job = client.fine_tuning.jobs.retrieve('ftjob-Law4amVFFG8C0sKOCoGP5U73')\n",
        "\n",
        "if job.status == 'succeeded':\n",
        "  fine_tuned_model_id = job.fine_tuned_model\n",
        "\n",
        "  completion = client.chat.completions.create(\n",
        "      model=fine_tuned_model_id, # Use the correct model ID\n",
        "      messages=[\n",
        "          {\"role\": \"system\", \"content\": \"Marv is a factual chatbot that is also humorous.\"},\n",
        "          {\"role\": \"user\", \"content\": \"What's the capital of Richtenstein?\"}\n",
        "      ]\n",
        "  )\n",
        "  print(completion.choices[0].message.content)\n",
        "else:\n",
        "  print(\"Fine-tuning job is still in progress. Please wait and try again later.\")"
      ],
      "metadata": {
        "colab": {
          "base_uri": "https://localhost:8080/"
        },
        "id": "JGOww4UArnlg",
        "outputId": "73e029a0-14de-478a-c74a-576385dd37b9"
      },
      "execution_count": 9,
      "outputs": [
        {
          "output_type": "stream",
          "name": "stdout",
          "text": [
            "The capital of Liechtenstein is Vaduz.\n"
          ]
        }
      ]
    },
    {
      "cell_type": "code",
      "source": [
        "light_fine_tuned_model_id = \"ft:gpt-3.5-turbo-0125:personal::AXHOXsey\"\n",
        "fine_tuned_model_id = \"ft:gpt-3.5-turbo-0125:personal::AXHQhBiR\"\n",
        "model_id = \"gpt-3.5-turbo-0125\""
      ],
      "metadata": {
        "id": "nhaREDuswam5"
      },
      "execution_count": 10,
      "outputs": []
    },
    {
      "cell_type": "markdown",
      "source": [
        "model_id 버전"
      ],
      "metadata": {
        "id": "nSs4220hxkHu"
      }
    },
    {
      "cell_type": "code",
      "source": [
        "# Use a general model for chat completion\n",
        "completion = client.chat.completions.create(\n",
        "    model=model_id, # Use the correct model ID\n",
        "    messages=[\n",
        "        {\"role\": \"system\", \"content\": \"임금의 말투를 사용하여 답장하시오.\"},\n",
        "        {\"role\": \"user\", \"content\": \"오늘 점심은 뭐 먹을래?\"}\n",
        "    ]\n",
        ")\n",
        "\n",
        "print(completion.choices[0].message.content)"
      ],
      "metadata": {
        "colab": {
          "base_uri": "https://localhost:8080/"
        },
        "id": "DT655oPXwhwm",
        "outputId": "681edcb5-50ff-43e5-bf27-0293d4f3e8a9"
      },
      "execution_count": 11,
      "outputs": [
        {
          "output_type": "stream",
          "name": "stdout",
          "text": [
            "저희는 오늘 점심으로 피자 주문해볼까요?\n"
          ]
        }
      ]
    },
    {
      "cell_type": "markdown",
      "source": [
        "light_fine_tuned_model_id 버전"
      ],
      "metadata": {
        "id": "DkHjYc1uxmlI"
      }
    },
    {
      "cell_type": "code",
      "source": [
        "# Use a general model for chat completion\n",
        "completion = client.chat.completions.create(\n",
        "    model=light_fine_tuned_model_id, # Use the correct model ID\n",
        "    messages=[\n",
        "        {\"role\": \"system\", \"content\": \"임금의 말투를 사용하여 답장하시오.\"},\n",
        "        {\"role\": \"user\", \"content\": \"오늘 점심은 뭐 먹을래?\"}\n",
        "    ]\n",
        ")\n",
        "\n",
        "print(completion.choices[0].message.content)"
      ],
      "metadata": {
        "colab": {
          "base_uri": "https://localhost:8080/"
        },
        "id": "eOZMOP8Gxjtc",
        "outputId": "042883c2-bf9a-4e24-d888-7e3b852b6f08"
      },
      "execution_count": 12,
      "outputs": [
        {
          "output_type": "stream",
          "name": "stdout",
          "text": [
            "햄버거가 좋소.\n"
          ]
        }
      ]
    },
    {
      "cell_type": "markdown",
      "source": [
        "fine_tuned_model_id 버전"
      ],
      "metadata": {
        "id": "_551jV2Wxqy_"
      }
    },
    {
      "cell_type": "code",
      "source": [
        "# Use a general model for chat completion\n",
        "completion = client.chat.completions.create(\n",
        "    model=fine_tuned_model_id, # Use the correct model ID\n",
        "    messages=[\n",
        "        {\"role\": \"system\", \"content\": \"임금의 말투를 사용하여 답장하시오.\"},\n",
        "        {\"role\": \"user\", \"content\": \"오늘 점심은 뭐 먹을래?\"}\n",
        "    ]\n",
        ")\n",
        "\n",
        "print(completion.choices[0].message.content)"
      ],
      "metadata": {
        "colab": {
          "base_uri": "https://localhost:8080/"
        },
        "id": "Q-LnHnYzx9_P",
        "outputId": "35199f07-7b8c-4d54-d46d-1e3bfc1c115e"
      },
      "execution_count": 17,
      "outputs": [
        {
          "output_type": "stream",
          "name": "stdout",
          "text": [
            "파스타를 먹으려네.\n"
          ]
        }
      ]
    }
  ]
}